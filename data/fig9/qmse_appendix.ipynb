{
 "cells": [
  {
   "cell_type": "code",
   "execution_count": 1,
   "id": "19fd2495",
   "metadata": {},
   "outputs": [],
   "source": [
    "import matplotlib.pyplot as plt\n",
    "import numpy as np\n",
    "import pandas as pd\n",
    "from IPython.display import clear_output\n",
    "import os\n",
    "import scienceplots\n",
    "plt.style.use(['science', 'ieee', 'no-latex'])\n",
    "plt.style.use(\"molecule.mplstyle\")"
   ]
  },
  {
   "cell_type": "code",
   "execution_count": 2,
   "id": "7c645299",
   "metadata": {},
   "outputs": [],
   "source": [
    "df_angle_linear = pd.read_excel('appendix_bond_fig.xlsx', sheet_name='angle_linear', header=None).to_numpy()\n",
    "df_angle_pairwise = pd.read_excel('appendix_bond_fig.xlsx', sheet_name='angle_pairwise', header=None).to_numpy()\n",
    "df_bond_linear = pd.read_excel('appendix_bond_fig.xlsx', sheet_name='bond_linear', header=None).to_numpy()\n",
    "df_bond_pairwise = pd.read_excel('appendix_bond_fig.xlsx', sheet_name='bond_pairwise', header=None).to_numpy()"
   ]
  },
  {
   "cell_type": "code",
   "execution_count": null,
   "id": "f86e144b",
   "metadata": {},
   "outputs": [],
   "source": [
    "for i in range(1,6,1):\n",
    "    split_num = i\n",
    "    layer_series = np.linspace(1, 1000, 1000, dtype=int)\n",
    "    fig, ax = plt.subplots()\n",
    "    ax.plot(layer_series, df_angle_linear[:,split_num-1], '-', linewidth=0.5)\n",
    "    ax.plot(layer_series, df_angle_pairwise[:,split_num-1], '-', linewidth=0.5)\n",
    "    ax.plot(layer_series, df_bond_linear[:,split_num-1], '-', linewidth=0.5)\n",
    "    ax.plot(layer_series, df_bond_pairwise[:,split_num-1], '-', linewidth=0.5)\n",
    "    ax.tick_params(axis='x', which='both', top=False)\n",
    "    ax.tick_params(axis='y', which='both', right=False)\n",
    "    ax.set_xlim(0, 1000)\n",
    "    ax.set_ylim(0.0, 1.2)\n",
    "    # ax.set_xticks(layer_series)\n",
    "    # ax.set_xticklabels(layer_series)\n",
    "    # ax.set_yticks(np.arange(0, 0.21, 0.025), minor=True)\n",
    "    # ax.set_yticklabels(np.round(np.arange(0, 0.21, 0.025), 3), minor=True)\n",
    "    ax.tick_params(axis='both', which='major', labelsize=10)\n",
    "    ax.set_title(f\"Split {split_num}\",fontsize=15)\n",
    "    ax.legend(['Run 1', 'Run 2', 'Run 3', 'Run 4'], loc='upper right', fontsize=9)\n",
    "    ax.set_xlabel('Iteration number',fontsize=12)\n",
    "    ax.set_ylabel('Cost function value',fontsize=12)\n",
    "    plt.savefig(f\"appendix_bond_split{split_num}.pdf\", format=\"pdf\", dpi=2000)"
   ]
  }
 ],
 "metadata": {
  "kernelspec": {
   "display_name": "qc2",
   "language": "python",
   "name": "python3"
  },
  "language_info": {
   "codemirror_mode": {
    "name": "ipython",
    "version": 3
   },
   "file_extension": ".py",
   "mimetype": "text/x-python",
   "name": "python",
   "nbconvert_exporter": "python",
   "pygments_lexer": "ipython3",
   "version": "3.12.7"
  }
 },
 "nbformat": 4,
 "nbformat_minor": 5
}
